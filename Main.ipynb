{
 "cells": [
  {
   "cell_type": "markdown",
   "metadata": {
    "collapsed": true,
    "pycharm": {
     "name": "#%% md\n"
    }
   },
   "source": [
    "# Detection of Malicious DNS-over-HTTPS (DoH) Tunneling using a Stacked Classifier\n",
    "DNS-over-HTTPS (DoH) uses the HTTPS protocol to send encrypted request to the DNS server rather than the default User Datagram Protocol (UDP) (Böttger, et al., 2019). As DoH protocol uses the port 443 which is the default HTTPS port, it becomes difficult for network administrators to differentiate between regular HTTPS request and DNS request. However, malicious attackers with the knowledge of the inner workings of the DoH protocol found a way to use the protocol to hide their malicious activities when transferring stolen data from a compromised system. In 2019, an Iranian hacking group known as Oilrig became the first known group to incorporate the DoH protocol in a tool called DNSExfiltrator. This tool was used to exfiltrate data from the compromised network via DoH to several COVID-19 related domains (Cimpanu, 2020).\n",
    "\n",
    "The goal of this research is to develop a hybrid classifier that would effectively detect and classify DNS tunneling that utilize the DoH Protocol.\n",
    "\n",
    "### Dataset Details\n",
    "The dataset used for this research is the CIRA-CIC-DoHBrw-2020 dataset developed by the Canadian Institute of Cybersecurity.\n",
    "This dataset can be found on : ```https://www.unb.ca/cic/datasets/dohbrw-2020.html```\n",
    "\n",
    "The CIRA-CIC-DoHBrw-2020 dataset provides 10 days of network traffic from Monday, December 10 to Thursday December 20, 2019. The dataset consists of 371,836 labelled network flows consisting of 34 features (MontazeriShatoori, et al., 2020).\n"
   ]
  },
  {
   "cell_type": "code",
   "execution_count": 1,
   "outputs": [
    {
     "data": {
      "text/plain": "         SourceIP   DestinationIP  SourcePort  DestinationPort  \\\n0  192.168.20.111         8.8.8.8       49972              443   \n1  192.168.20.111         8.8.8.8       50028              443   \n2  192.168.20.111         8.8.8.8       50092              443   \n3  192.168.20.111   54.72.229.126       60540              443   \n4  192.168.20.111  54.191.252.154       50928              443   \n\n             TimeStamp  Duration  FlowBytesSent  FlowSentRate  \\\n0  2019-12-10 13:14:43  0.017147            171   9972.589957   \n1  2019-12-10 13:14:52  0.954806           2555   2675.936263   \n2  2019-12-10 13:14:55  1.646289           8465   5141.867558   \n3  2019-12-10 13:14:56  1.132705           1751   1545.857041   \n4  2019-12-10 13:14:56  1.170098           2351   2009.233415   \n\n   FlowBytesReceived  FlowReceivedRate  ...  PacketTimeCoefficientofVariation  \\\n0                105       6123.520149  ...                          0.707107   \n1               5675       5943.615771  ...                          1.353916   \n2              10845       6587.543256  ...                          0.549101   \n3               4504       3976.322167  ...                          0.847468   \n4               4633       3959.497410  ...                          0.806748   \n\n   ResponseTimeTimeVariance  ResponseTimeTimeStandardDeviation  \\\n0                  0.000000                           0.000000   \n1                  0.000084                           0.009147   \n2                  0.000064                           0.007990   \n3                  0.001276                           0.035717   \n4                  0.001192                           0.034518   \n\n   ResponseTimeTimeMean  ResponseTimeTimeMedian  ResponseTimeTimeMode  \\\n0              0.017120                0.017120              0.017120   \n1              0.010709                0.008997              0.000004   \n2              0.010945                0.015319              0.000003   \n3              0.079840                0.095209              0.000012   \n4              0.054705                0.082358              0.000016   \n\n   ResponseTimeTimeSkewFromMedian  ResponseTimeTimeSkewFromMode  \\\n0                      -10.000000                    -10.000000   \n1                        0.561552                      1.170332   \n2                       -1.642429                      1.369527   \n3                       -1.290885                      2.235006   \n4                       -2.403374                      1.584345   \n\n   ResponseTimeTimeCoefficientofVariation    DoH  \n0                                0.000000   True  \n1                                0.854139   True  \n2                                0.729979   True  \n3                                0.447359  False  \n4                                0.630991  False  \n\n[5 rows x 35 columns]",
      "text/html": "<div>\n<style scoped>\n    .dataframe tbody tr th:only-of-type {\n        vertical-align: middle;\n    }\n\n    .dataframe tbody tr th {\n        vertical-align: top;\n    }\n\n    .dataframe thead th {\n        text-align: right;\n    }\n</style>\n<table border=\"1\" class=\"dataframe\">\n  <thead>\n    <tr style=\"text-align: right;\">\n      <th></th>\n      <th>SourceIP</th>\n      <th>DestinationIP</th>\n      <th>SourcePort</th>\n      <th>DestinationPort</th>\n      <th>TimeStamp</th>\n      <th>Duration</th>\n      <th>FlowBytesSent</th>\n      <th>FlowSentRate</th>\n      <th>FlowBytesReceived</th>\n      <th>FlowReceivedRate</th>\n      <th>...</th>\n      <th>PacketTimeCoefficientofVariation</th>\n      <th>ResponseTimeTimeVariance</th>\n      <th>ResponseTimeTimeStandardDeviation</th>\n      <th>ResponseTimeTimeMean</th>\n      <th>ResponseTimeTimeMedian</th>\n      <th>ResponseTimeTimeMode</th>\n      <th>ResponseTimeTimeSkewFromMedian</th>\n      <th>ResponseTimeTimeSkewFromMode</th>\n      <th>ResponseTimeTimeCoefficientofVariation</th>\n      <th>DoH</th>\n    </tr>\n  </thead>\n  <tbody>\n    <tr>\n      <th>0</th>\n      <td>192.168.20.111</td>\n      <td>8.8.8.8</td>\n      <td>49972</td>\n      <td>443</td>\n      <td>2019-12-10 13:14:43</td>\n      <td>0.017147</td>\n      <td>171</td>\n      <td>9972.589957</td>\n      <td>105</td>\n      <td>6123.520149</td>\n      <td>...</td>\n      <td>0.707107</td>\n      <td>0.000000</td>\n      <td>0.000000</td>\n      <td>0.017120</td>\n      <td>0.017120</td>\n      <td>0.017120</td>\n      <td>-10.000000</td>\n      <td>-10.000000</td>\n      <td>0.000000</td>\n      <td>True</td>\n    </tr>\n    <tr>\n      <th>1</th>\n      <td>192.168.20.111</td>\n      <td>8.8.8.8</td>\n      <td>50028</td>\n      <td>443</td>\n      <td>2019-12-10 13:14:52</td>\n      <td>0.954806</td>\n      <td>2555</td>\n      <td>2675.936263</td>\n      <td>5675</td>\n      <td>5943.615771</td>\n      <td>...</td>\n      <td>1.353916</td>\n      <td>0.000084</td>\n      <td>0.009147</td>\n      <td>0.010709</td>\n      <td>0.008997</td>\n      <td>0.000004</td>\n      <td>0.561552</td>\n      <td>1.170332</td>\n      <td>0.854139</td>\n      <td>True</td>\n    </tr>\n    <tr>\n      <th>2</th>\n      <td>192.168.20.111</td>\n      <td>8.8.8.8</td>\n      <td>50092</td>\n      <td>443</td>\n      <td>2019-12-10 13:14:55</td>\n      <td>1.646289</td>\n      <td>8465</td>\n      <td>5141.867558</td>\n      <td>10845</td>\n      <td>6587.543256</td>\n      <td>...</td>\n      <td>0.549101</td>\n      <td>0.000064</td>\n      <td>0.007990</td>\n      <td>0.010945</td>\n      <td>0.015319</td>\n      <td>0.000003</td>\n      <td>-1.642429</td>\n      <td>1.369527</td>\n      <td>0.729979</td>\n      <td>True</td>\n    </tr>\n    <tr>\n      <th>3</th>\n      <td>192.168.20.111</td>\n      <td>54.72.229.126</td>\n      <td>60540</td>\n      <td>443</td>\n      <td>2019-12-10 13:14:56</td>\n      <td>1.132705</td>\n      <td>1751</td>\n      <td>1545.857041</td>\n      <td>4504</td>\n      <td>3976.322167</td>\n      <td>...</td>\n      <td>0.847468</td>\n      <td>0.001276</td>\n      <td>0.035717</td>\n      <td>0.079840</td>\n      <td>0.095209</td>\n      <td>0.000012</td>\n      <td>-1.290885</td>\n      <td>2.235006</td>\n      <td>0.447359</td>\n      <td>False</td>\n    </tr>\n    <tr>\n      <th>4</th>\n      <td>192.168.20.111</td>\n      <td>54.191.252.154</td>\n      <td>50928</td>\n      <td>443</td>\n      <td>2019-12-10 13:14:56</td>\n      <td>1.170098</td>\n      <td>2351</td>\n      <td>2009.233415</td>\n      <td>4633</td>\n      <td>3959.497410</td>\n      <td>...</td>\n      <td>0.806748</td>\n      <td>0.001192</td>\n      <td>0.034518</td>\n      <td>0.054705</td>\n      <td>0.082358</td>\n      <td>0.000016</td>\n      <td>-2.403374</td>\n      <td>1.584345</td>\n      <td>0.630991</td>\n      <td>False</td>\n    </tr>\n  </tbody>\n</table>\n<p>5 rows × 35 columns</p>\n</div>"
     },
     "execution_count": 1,
     "metadata": {},
     "output_type": "execute_result"
    }
   ],
   "source": [
    "# importing the dataset and outputting the first 5 samples in the dataset\n",
    "import pandas as pd\n",
    "df = pd.read_csv(\"MaliciousDoH.csv\")\n",
    "df.head(5)"
   ],
   "metadata": {
    "collapsed": false,
    "pycharm": {
     "name": "#%%\n"
    }
   }
  },
  {
   "cell_type": "code",
   "execution_count": 2,
   "outputs": [
    {
     "data": {
      "text/plain": "DoH\nFalse    355207\nTrue      16257\ndtype: int64"
     },
     "execution_count": 2,
     "metadata": {},
     "output_type": "execute_result"
    }
   ],
   "source": [
    "# Analyzing the target class to see how balanced or unbalanced the dataset is.\n",
    "\n",
    "df.groupby(df.DoH).size()"
   ],
   "metadata": {
    "collapsed": false,
    "pycharm": {
     "name": "#%%\n"
    }
   }
  },
  {
   "cell_type": "markdown",
   "source": [
    "### Data Preparation\n",
    "In this phase, The removal of features with insignificant values was carried out . These features were, Source IP, Destination IP, Packet Time Mode and Timestamp. You may ask, why were these features chosen. Well, Source IP and Destination IP were dropped from the dataset because in a practical sense, numerous applications exist that randomly generate IP addresses making it not a good feature in training an anomaly detection system. So instead of targeting those features, the machine learning model was trained using data that replicates the behavior of DNS tunneling on the DoH protocol. Timestamp on the other hand was removed because it was observed that it had a high correlation with the target variable. To prevent data leakage, timestamp was removed as a feature. While packet time mode had no significant value because it only contained the number 0"
   ],
   "metadata": {
    "collapsed": false,
    "pycharm": {
     "name": "#%% md\n"
    }
   }
  },
  {
   "cell_type": "code",
   "execution_count": 3,
   "outputs": [
    {
     "data": {
      "text/plain": "        SourcePort  DestinationPort    Duration  FlowBytesSent  FlowSentRate  \\\n0            49972              443    0.017147            171  9.972590e+03   \n1            50028              443    0.954806           2555  2.675936e+03   \n2            50092              443    1.646289           8465  5.141868e+03   \n3            60540              443    1.132705           1751  1.545857e+03   \n4            50928              443    1.170098           2351  2.009233e+03   \n...            ...              ...         ...            ...           ...   \n371459         443            49440   13.777943           3165  2.297150e+02   \n371460       35308              443   40.117653           3209  7.998972e+01   \n371461         443            49440  177.001521            279  1.576258e+00   \n371462         443            49440    0.000026             93  3.576923e+06   \n371463         443            49440   59.000546             93  1.576257e+00   \n\n        FlowBytesReceived  FlowReceivedRate  PacketLengthVariance  \\\n0                     105      6.123520e+03          3.380000e+02   \n1                    5675      5.943616e+03          3.106133e+05   \n2                   10845      6.587543e+03          1.360269e+04   \n3                    4504      3.976322e+03          6.008720e+05   \n4                    4633      3.959497e+03          2.082705e+05   \n...                   ...               ...                   ...   \n371459               2286      1.659174e+02          9.243248e+03   \n371460              47363      1.180602e+03          1.563846e+06   \n371461                720      4.067762e+00          2.851875e+02   \n371462                 54      2.076923e+06          3.802500e+02   \n371463                240      4.067759e+00          2.851875e+02   \n\n        PacketLengthStandardDeviation  PacketLengthMean  ...  \\\n0                           18.384776         92.000000  ...   \n1                          557.326960        257.187500  ...   \n2                          116.630552        132.260274  ...   \n3                          775.159356        347.500000  ...   \n4                          456.366649        258.666667  ...   \n...                               ...               ...  ...   \n371459                      96.141813        126.767442  ...   \n371460                    1250.538417        857.152542  ...   \n371461                      16.887495         83.250000  ...   \n371462                      19.500000         73.500000  ...   \n371463                      16.887495         83.250000  ...   \n\n        PacketTimeCoefficientofVariation  ResponseTimeTimeVariance  \\\n0                               0.707107              0.000000e+00   \n1                               1.353916              8.367029e-05   \n2                               0.549101              6.383296e-05   \n3                               0.847468              1.275703e-03   \n4                               0.806748              1.191502e-03   \n...                                  ...                       ...   \n371459                          0.317461              5.656498e-08   \n371460                          2.888559              6.483573e+01   \n371461                          0.767390              3.583343e-04   \n371462                          1.000000              0.000000e+00   \n371463                          1.713701              0.000000e+00   \n\n        ResponseTimeTimeStandardDeviation  ResponseTimeTimeMean  \\\n0                                0.000000              0.017120   \n1                                0.009147              0.010709   \n2                                0.007990              0.010945   \n3                                0.035717              0.079840   \n4                                0.034518              0.054705   \n...                                   ...                   ...   \n371459                           0.000238              0.000155   \n371460                           8.052064              1.743961   \n371461                           0.018930              0.013419   \n371462                           0.000000              0.000026   \n371463                           0.000000              0.000034   \n\n        ResponseTimeTimeMedian  ResponseTimeTimeMode  \\\n0                     0.017120              0.017120   \n1                     0.008997              0.000004   \n2                     0.015319              0.000003   \n3                     0.095209              0.000012   \n4                     0.082358              0.000016   \n...                        ...                   ...   \n371459                0.000050              0.000004   \n371460                0.008872              0.000046   \n371461                0.000034              0.000034   \n371462                0.000026              0.000026   \n371463                0.000034              0.000034   \n\n        ResponseTimeTimeSkewFromMedian  ResponseTimeTimeSkewFromMode  \\\n0                           -10.000000                    -10.000000   \n1                             0.561552                      1.170332   \n2                            -1.642429                      1.369527   \n3                            -1.290885                      2.235006   \n4                            -2.403374                      1.584345   \n...                                ...                           ...   \n371459                        1.330187                      0.636808   \n371460                        0.646451                      0.216580   \n371461                        2.121320                      0.707107   \n371462                      -10.000000                    -10.000000   \n371463                      -10.000000                    -10.000000   \n\n        ResponseTimeTimeCoefficientofVariation    DoH  \n0                                     0.000000   True  \n1                                     0.854139   True  \n2                                     0.729979   True  \n3                                     0.447359  False  \n4                                     0.630991  False  \n...                                        ...    ...  \n371459                                1.529926   True  \n371460                                4.617112  False  \n371461                                1.410630   True  \n371462                                0.000000   True  \n371463                                0.000000   True  \n\n[371464 rows x 31 columns]",
      "text/html": "<div>\n<style scoped>\n    .dataframe tbody tr th:only-of-type {\n        vertical-align: middle;\n    }\n\n    .dataframe tbody tr th {\n        vertical-align: top;\n    }\n\n    .dataframe thead th {\n        text-align: right;\n    }\n</style>\n<table border=\"1\" class=\"dataframe\">\n  <thead>\n    <tr style=\"text-align: right;\">\n      <th></th>\n      <th>SourcePort</th>\n      <th>DestinationPort</th>\n      <th>Duration</th>\n      <th>FlowBytesSent</th>\n      <th>FlowSentRate</th>\n      <th>FlowBytesReceived</th>\n      <th>FlowReceivedRate</th>\n      <th>PacketLengthVariance</th>\n      <th>PacketLengthStandardDeviation</th>\n      <th>PacketLengthMean</th>\n      <th>...</th>\n      <th>PacketTimeCoefficientofVariation</th>\n      <th>ResponseTimeTimeVariance</th>\n      <th>ResponseTimeTimeStandardDeviation</th>\n      <th>ResponseTimeTimeMean</th>\n      <th>ResponseTimeTimeMedian</th>\n      <th>ResponseTimeTimeMode</th>\n      <th>ResponseTimeTimeSkewFromMedian</th>\n      <th>ResponseTimeTimeSkewFromMode</th>\n      <th>ResponseTimeTimeCoefficientofVariation</th>\n      <th>DoH</th>\n    </tr>\n  </thead>\n  <tbody>\n    <tr>\n      <th>0</th>\n      <td>49972</td>\n      <td>443</td>\n      <td>0.017147</td>\n      <td>171</td>\n      <td>9.972590e+03</td>\n      <td>105</td>\n      <td>6.123520e+03</td>\n      <td>3.380000e+02</td>\n      <td>18.384776</td>\n      <td>92.000000</td>\n      <td>...</td>\n      <td>0.707107</td>\n      <td>0.000000e+00</td>\n      <td>0.000000</td>\n      <td>0.017120</td>\n      <td>0.017120</td>\n      <td>0.017120</td>\n      <td>-10.000000</td>\n      <td>-10.000000</td>\n      <td>0.000000</td>\n      <td>True</td>\n    </tr>\n    <tr>\n      <th>1</th>\n      <td>50028</td>\n      <td>443</td>\n      <td>0.954806</td>\n      <td>2555</td>\n      <td>2.675936e+03</td>\n      <td>5675</td>\n      <td>5.943616e+03</td>\n      <td>3.106133e+05</td>\n      <td>557.326960</td>\n      <td>257.187500</td>\n      <td>...</td>\n      <td>1.353916</td>\n      <td>8.367029e-05</td>\n      <td>0.009147</td>\n      <td>0.010709</td>\n      <td>0.008997</td>\n      <td>0.000004</td>\n      <td>0.561552</td>\n      <td>1.170332</td>\n      <td>0.854139</td>\n      <td>True</td>\n    </tr>\n    <tr>\n      <th>2</th>\n      <td>50092</td>\n      <td>443</td>\n      <td>1.646289</td>\n      <td>8465</td>\n      <td>5.141868e+03</td>\n      <td>10845</td>\n      <td>6.587543e+03</td>\n      <td>1.360269e+04</td>\n      <td>116.630552</td>\n      <td>132.260274</td>\n      <td>...</td>\n      <td>0.549101</td>\n      <td>6.383296e-05</td>\n      <td>0.007990</td>\n      <td>0.010945</td>\n      <td>0.015319</td>\n      <td>0.000003</td>\n      <td>-1.642429</td>\n      <td>1.369527</td>\n      <td>0.729979</td>\n      <td>True</td>\n    </tr>\n    <tr>\n      <th>3</th>\n      <td>60540</td>\n      <td>443</td>\n      <td>1.132705</td>\n      <td>1751</td>\n      <td>1.545857e+03</td>\n      <td>4504</td>\n      <td>3.976322e+03</td>\n      <td>6.008720e+05</td>\n      <td>775.159356</td>\n      <td>347.500000</td>\n      <td>...</td>\n      <td>0.847468</td>\n      <td>1.275703e-03</td>\n      <td>0.035717</td>\n      <td>0.079840</td>\n      <td>0.095209</td>\n      <td>0.000012</td>\n      <td>-1.290885</td>\n      <td>2.235006</td>\n      <td>0.447359</td>\n      <td>False</td>\n    </tr>\n    <tr>\n      <th>4</th>\n      <td>50928</td>\n      <td>443</td>\n      <td>1.170098</td>\n      <td>2351</td>\n      <td>2.009233e+03</td>\n      <td>4633</td>\n      <td>3.959497e+03</td>\n      <td>2.082705e+05</td>\n      <td>456.366649</td>\n      <td>258.666667</td>\n      <td>...</td>\n      <td>0.806748</td>\n      <td>1.191502e-03</td>\n      <td>0.034518</td>\n      <td>0.054705</td>\n      <td>0.082358</td>\n      <td>0.000016</td>\n      <td>-2.403374</td>\n      <td>1.584345</td>\n      <td>0.630991</td>\n      <td>False</td>\n    </tr>\n    <tr>\n      <th>...</th>\n      <td>...</td>\n      <td>...</td>\n      <td>...</td>\n      <td>...</td>\n      <td>...</td>\n      <td>...</td>\n      <td>...</td>\n      <td>...</td>\n      <td>...</td>\n      <td>...</td>\n      <td>...</td>\n      <td>...</td>\n      <td>...</td>\n      <td>...</td>\n      <td>...</td>\n      <td>...</td>\n      <td>...</td>\n      <td>...</td>\n      <td>...</td>\n      <td>...</td>\n      <td>...</td>\n    </tr>\n    <tr>\n      <th>371459</th>\n      <td>443</td>\n      <td>49440</td>\n      <td>13.777943</td>\n      <td>3165</td>\n      <td>2.297150e+02</td>\n      <td>2286</td>\n      <td>1.659174e+02</td>\n      <td>9.243248e+03</td>\n      <td>96.141813</td>\n      <td>126.767442</td>\n      <td>...</td>\n      <td>0.317461</td>\n      <td>5.656498e-08</td>\n      <td>0.000238</td>\n      <td>0.000155</td>\n      <td>0.000050</td>\n      <td>0.000004</td>\n      <td>1.330187</td>\n      <td>0.636808</td>\n      <td>1.529926</td>\n      <td>True</td>\n    </tr>\n    <tr>\n      <th>371460</th>\n      <td>35308</td>\n      <td>443</td>\n      <td>40.117653</td>\n      <td>3209</td>\n      <td>7.998972e+01</td>\n      <td>47363</td>\n      <td>1.180602e+03</td>\n      <td>1.563846e+06</td>\n      <td>1250.538417</td>\n      <td>857.152542</td>\n      <td>...</td>\n      <td>2.888559</td>\n      <td>6.483573e+01</td>\n      <td>8.052064</td>\n      <td>1.743961</td>\n      <td>0.008872</td>\n      <td>0.000046</td>\n      <td>0.646451</td>\n      <td>0.216580</td>\n      <td>4.617112</td>\n      <td>False</td>\n    </tr>\n    <tr>\n      <th>371461</th>\n      <td>443</td>\n      <td>49440</td>\n      <td>177.001521</td>\n      <td>279</td>\n      <td>1.576258e+00</td>\n      <td>720</td>\n      <td>4.067762e+00</td>\n      <td>2.851875e+02</td>\n      <td>16.887495</td>\n      <td>83.250000</td>\n      <td>...</td>\n      <td>0.767390</td>\n      <td>3.583343e-04</td>\n      <td>0.018930</td>\n      <td>0.013419</td>\n      <td>0.000034</td>\n      <td>0.000034</td>\n      <td>2.121320</td>\n      <td>0.707107</td>\n      <td>1.410630</td>\n      <td>True</td>\n    </tr>\n    <tr>\n      <th>371462</th>\n      <td>443</td>\n      <td>49440</td>\n      <td>0.000026</td>\n      <td>93</td>\n      <td>3.576923e+06</td>\n      <td>54</td>\n      <td>2.076923e+06</td>\n      <td>3.802500e+02</td>\n      <td>19.500000</td>\n      <td>73.500000</td>\n      <td>...</td>\n      <td>1.000000</td>\n      <td>0.000000e+00</td>\n      <td>0.000000</td>\n      <td>0.000026</td>\n      <td>0.000026</td>\n      <td>0.000026</td>\n      <td>-10.000000</td>\n      <td>-10.000000</td>\n      <td>0.000000</td>\n      <td>True</td>\n    </tr>\n    <tr>\n      <th>371463</th>\n      <td>443</td>\n      <td>49440</td>\n      <td>59.000546</td>\n      <td>93</td>\n      <td>1.576257e+00</td>\n      <td>240</td>\n      <td>4.067759e+00</td>\n      <td>2.851875e+02</td>\n      <td>16.887495</td>\n      <td>83.250000</td>\n      <td>...</td>\n      <td>1.713701</td>\n      <td>0.000000e+00</td>\n      <td>0.000000</td>\n      <td>0.000034</td>\n      <td>0.000034</td>\n      <td>0.000034</td>\n      <td>-10.000000</td>\n      <td>-10.000000</td>\n      <td>0.000000</td>\n      <td>True</td>\n    </tr>\n  </tbody>\n</table>\n<p>371464 rows × 31 columns</p>\n</div>"
     },
     "execution_count": 3,
     "metadata": {},
     "output_type": "execute_result"
    }
   ],
   "source": [
    "df = df.drop(['SourceIP','DestinationIP','PacketTimeMode','TimeStamp'],1)\n",
    "df"
   ],
   "metadata": {
    "collapsed": false,
    "pycharm": {
     "name": "#%%\n"
    }
   }
  },
  {
   "cell_type": "code",
   "execution_count": 4,
   "outputs": [
    {
     "data": {
      "text/plain": "        SourcePort  DestinationPort    Duration  FlowBytesSent  FlowSentRate  \\\n0            49972              443    0.017147            171  9.972590e+03   \n1            50028              443    0.954806           2555  2.675936e+03   \n2            50092              443    1.646289           8465  5.141868e+03   \n3            60540              443    1.132705           1751  1.545857e+03   \n4            50928              443    1.170098           2351  2.009233e+03   \n...            ...              ...         ...            ...           ...   \n371459         443            49440   13.777943           3165  2.297150e+02   \n371460       35308              443   40.117653           3209  7.998972e+01   \n371461         443            49440  177.001521            279  1.576258e+00   \n371462         443            49440    0.000026             93  3.576923e+06   \n371463         443            49440   59.000546             93  1.576257e+00   \n\n        FlowBytesReceived  FlowReceivedRate  PacketLengthVariance  \\\n0                     105      6.123520e+03          3.380000e+02   \n1                    5675      5.943616e+03          3.106133e+05   \n2                   10845      6.587543e+03          1.360269e+04   \n3                    4504      3.976322e+03          6.008720e+05   \n4                    4633      3.959497e+03          2.082705e+05   \n...                   ...               ...                   ...   \n371459               2286      1.659174e+02          9.243248e+03   \n371460              47363      1.180602e+03          1.563846e+06   \n371461                720      4.067762e+00          2.851875e+02   \n371462                 54      2.076923e+06          3.802500e+02   \n371463                240      4.067759e+00          2.851875e+02   \n\n        PacketLengthStandardDeviation  PacketLengthMean  ...  \\\n0                           18.384776         92.000000  ...   \n1                          557.326960        257.187500  ...   \n2                          116.630552        132.260274  ...   \n3                          775.159356        347.500000  ...   \n4                          456.366649        258.666667  ...   \n...                               ...               ...  ...   \n371459                      96.141813        126.767442  ...   \n371460                    1250.538417        857.152542  ...   \n371461                      16.887495         83.250000  ...   \n371462                      19.500000         73.500000  ...   \n371463                      16.887495         83.250000  ...   \n\n        PacketTimeCoefficientofVariation  ResponseTimeTimeVariance  \\\n0                               0.707107              0.000000e+00   \n1                               1.353916              8.367029e-05   \n2                               0.549101              6.383296e-05   \n3                               0.847468              1.275703e-03   \n4                               0.806748              1.191502e-03   \n...                                  ...                       ...   \n371459                          0.317461              5.656498e-08   \n371460                          2.888559              6.483573e+01   \n371461                          0.767390              3.583343e-04   \n371462                          1.000000              0.000000e+00   \n371463                          1.713701              0.000000e+00   \n\n        ResponseTimeTimeStandardDeviation  ResponseTimeTimeMean  \\\n0                                0.000000              0.017120   \n1                                0.009147              0.010709   \n2                                0.007990              0.010945   \n3                                0.035717              0.079840   \n4                                0.034518              0.054705   \n...                                   ...                   ...   \n371459                           0.000238              0.000155   \n371460                           8.052064              1.743961   \n371461                           0.018930              0.013419   \n371462                           0.000000              0.000026   \n371463                           0.000000              0.000034   \n\n        ResponseTimeTimeMedian  ResponseTimeTimeMode  \\\n0                     0.017120              0.017120   \n1                     0.008997              0.000004   \n2                     0.015319              0.000003   \n3                     0.095209              0.000012   \n4                     0.082358              0.000016   \n...                        ...                   ...   \n371459                0.000050              0.000004   \n371460                0.008872              0.000046   \n371461                0.000034              0.000034   \n371462                0.000026              0.000026   \n371463                0.000034              0.000034   \n\n        ResponseTimeTimeSkewFromMedian  ResponseTimeTimeSkewFromMode  \\\n0                           -10.000000                    -10.000000   \n1                             0.561552                      1.170332   \n2                            -1.642429                      1.369527   \n3                            -1.290885                      2.235006   \n4                            -2.403374                      1.584345   \n...                                ...                           ...   \n371459                        1.330187                      0.636808   \n371460                        0.646451                      0.216580   \n371461                        2.121320                      0.707107   \n371462                      -10.000000                    -10.000000   \n371463                      -10.000000                    -10.000000   \n\n        ResponseTimeTimeCoefficientofVariation    DoH  \n0                                     0.000000   True  \n1                                     0.854139   True  \n2                                     0.729979   True  \n3                                     0.447359  False  \n4                                     0.630991  False  \n...                                        ...    ...  \n371459                                1.529926   True  \n371460                                4.617112  False  \n371461                                1.410630   True  \n371462                                0.000000   True  \n371463                                0.000000   True  \n\n[368792 rows x 31 columns]",
      "text/html": "<div>\n<style scoped>\n    .dataframe tbody tr th:only-of-type {\n        vertical-align: middle;\n    }\n\n    .dataframe tbody tr th {\n        vertical-align: top;\n    }\n\n    .dataframe thead th {\n        text-align: right;\n    }\n</style>\n<table border=\"1\" class=\"dataframe\">\n  <thead>\n    <tr style=\"text-align: right;\">\n      <th></th>\n      <th>SourcePort</th>\n      <th>DestinationPort</th>\n      <th>Duration</th>\n      <th>FlowBytesSent</th>\n      <th>FlowSentRate</th>\n      <th>FlowBytesReceived</th>\n      <th>FlowReceivedRate</th>\n      <th>PacketLengthVariance</th>\n      <th>PacketLengthStandardDeviation</th>\n      <th>PacketLengthMean</th>\n      <th>...</th>\n      <th>PacketTimeCoefficientofVariation</th>\n      <th>ResponseTimeTimeVariance</th>\n      <th>ResponseTimeTimeStandardDeviation</th>\n      <th>ResponseTimeTimeMean</th>\n      <th>ResponseTimeTimeMedian</th>\n      <th>ResponseTimeTimeMode</th>\n      <th>ResponseTimeTimeSkewFromMedian</th>\n      <th>ResponseTimeTimeSkewFromMode</th>\n      <th>ResponseTimeTimeCoefficientofVariation</th>\n      <th>DoH</th>\n    </tr>\n  </thead>\n  <tbody>\n    <tr>\n      <th>0</th>\n      <td>49972</td>\n      <td>443</td>\n      <td>0.017147</td>\n      <td>171</td>\n      <td>9.972590e+03</td>\n      <td>105</td>\n      <td>6.123520e+03</td>\n      <td>3.380000e+02</td>\n      <td>18.384776</td>\n      <td>92.000000</td>\n      <td>...</td>\n      <td>0.707107</td>\n      <td>0.000000e+00</td>\n      <td>0.000000</td>\n      <td>0.017120</td>\n      <td>0.017120</td>\n      <td>0.017120</td>\n      <td>-10.000000</td>\n      <td>-10.000000</td>\n      <td>0.000000</td>\n      <td>True</td>\n    </tr>\n    <tr>\n      <th>1</th>\n      <td>50028</td>\n      <td>443</td>\n      <td>0.954806</td>\n      <td>2555</td>\n      <td>2.675936e+03</td>\n      <td>5675</td>\n      <td>5.943616e+03</td>\n      <td>3.106133e+05</td>\n      <td>557.326960</td>\n      <td>257.187500</td>\n      <td>...</td>\n      <td>1.353916</td>\n      <td>8.367029e-05</td>\n      <td>0.009147</td>\n      <td>0.010709</td>\n      <td>0.008997</td>\n      <td>0.000004</td>\n      <td>0.561552</td>\n      <td>1.170332</td>\n      <td>0.854139</td>\n      <td>True</td>\n    </tr>\n    <tr>\n      <th>2</th>\n      <td>50092</td>\n      <td>443</td>\n      <td>1.646289</td>\n      <td>8465</td>\n      <td>5.141868e+03</td>\n      <td>10845</td>\n      <td>6.587543e+03</td>\n      <td>1.360269e+04</td>\n      <td>116.630552</td>\n      <td>132.260274</td>\n      <td>...</td>\n      <td>0.549101</td>\n      <td>6.383296e-05</td>\n      <td>0.007990</td>\n      <td>0.010945</td>\n      <td>0.015319</td>\n      <td>0.000003</td>\n      <td>-1.642429</td>\n      <td>1.369527</td>\n      <td>0.729979</td>\n      <td>True</td>\n    </tr>\n    <tr>\n      <th>3</th>\n      <td>60540</td>\n      <td>443</td>\n      <td>1.132705</td>\n      <td>1751</td>\n      <td>1.545857e+03</td>\n      <td>4504</td>\n      <td>3.976322e+03</td>\n      <td>6.008720e+05</td>\n      <td>775.159356</td>\n      <td>347.500000</td>\n      <td>...</td>\n      <td>0.847468</td>\n      <td>1.275703e-03</td>\n      <td>0.035717</td>\n      <td>0.079840</td>\n      <td>0.095209</td>\n      <td>0.000012</td>\n      <td>-1.290885</td>\n      <td>2.235006</td>\n      <td>0.447359</td>\n      <td>False</td>\n    </tr>\n    <tr>\n      <th>4</th>\n      <td>50928</td>\n      <td>443</td>\n      <td>1.170098</td>\n      <td>2351</td>\n      <td>2.009233e+03</td>\n      <td>4633</td>\n      <td>3.959497e+03</td>\n      <td>2.082705e+05</td>\n      <td>456.366649</td>\n      <td>258.666667</td>\n      <td>...</td>\n      <td>0.806748</td>\n      <td>1.191502e-03</td>\n      <td>0.034518</td>\n      <td>0.054705</td>\n      <td>0.082358</td>\n      <td>0.000016</td>\n      <td>-2.403374</td>\n      <td>1.584345</td>\n      <td>0.630991</td>\n      <td>False</td>\n    </tr>\n    <tr>\n      <th>...</th>\n      <td>...</td>\n      <td>...</td>\n      <td>...</td>\n      <td>...</td>\n      <td>...</td>\n      <td>...</td>\n      <td>...</td>\n      <td>...</td>\n      <td>...</td>\n      <td>...</td>\n      <td>...</td>\n      <td>...</td>\n      <td>...</td>\n      <td>...</td>\n      <td>...</td>\n      <td>...</td>\n      <td>...</td>\n      <td>...</td>\n      <td>...</td>\n      <td>...</td>\n      <td>...</td>\n    </tr>\n    <tr>\n      <th>371459</th>\n      <td>443</td>\n      <td>49440</td>\n      <td>13.777943</td>\n      <td>3165</td>\n      <td>2.297150e+02</td>\n      <td>2286</td>\n      <td>1.659174e+02</td>\n      <td>9.243248e+03</td>\n      <td>96.141813</td>\n      <td>126.767442</td>\n      <td>...</td>\n      <td>0.317461</td>\n      <td>5.656498e-08</td>\n      <td>0.000238</td>\n      <td>0.000155</td>\n      <td>0.000050</td>\n      <td>0.000004</td>\n      <td>1.330187</td>\n      <td>0.636808</td>\n      <td>1.529926</td>\n      <td>True</td>\n    </tr>\n    <tr>\n      <th>371460</th>\n      <td>35308</td>\n      <td>443</td>\n      <td>40.117653</td>\n      <td>3209</td>\n      <td>7.998972e+01</td>\n      <td>47363</td>\n      <td>1.180602e+03</td>\n      <td>1.563846e+06</td>\n      <td>1250.538417</td>\n      <td>857.152542</td>\n      <td>...</td>\n      <td>2.888559</td>\n      <td>6.483573e+01</td>\n      <td>8.052064</td>\n      <td>1.743961</td>\n      <td>0.008872</td>\n      <td>0.000046</td>\n      <td>0.646451</td>\n      <td>0.216580</td>\n      <td>4.617112</td>\n      <td>False</td>\n    </tr>\n    <tr>\n      <th>371461</th>\n      <td>443</td>\n      <td>49440</td>\n      <td>177.001521</td>\n      <td>279</td>\n      <td>1.576258e+00</td>\n      <td>720</td>\n      <td>4.067762e+00</td>\n      <td>2.851875e+02</td>\n      <td>16.887495</td>\n      <td>83.250000</td>\n      <td>...</td>\n      <td>0.767390</td>\n      <td>3.583343e-04</td>\n      <td>0.018930</td>\n      <td>0.013419</td>\n      <td>0.000034</td>\n      <td>0.000034</td>\n      <td>2.121320</td>\n      <td>0.707107</td>\n      <td>1.410630</td>\n      <td>True</td>\n    </tr>\n    <tr>\n      <th>371462</th>\n      <td>443</td>\n      <td>49440</td>\n      <td>0.000026</td>\n      <td>93</td>\n      <td>3.576923e+06</td>\n      <td>54</td>\n      <td>2.076923e+06</td>\n      <td>3.802500e+02</td>\n      <td>19.500000</td>\n      <td>73.500000</td>\n      <td>...</td>\n      <td>1.000000</td>\n      <td>0.000000e+00</td>\n      <td>0.000000</td>\n      <td>0.000026</td>\n      <td>0.000026</td>\n      <td>0.000026</td>\n      <td>-10.000000</td>\n      <td>-10.000000</td>\n      <td>0.000000</td>\n      <td>True</td>\n    </tr>\n    <tr>\n      <th>371463</th>\n      <td>443</td>\n      <td>49440</td>\n      <td>59.000546</td>\n      <td>93</td>\n      <td>1.576257e+00</td>\n      <td>240</td>\n      <td>4.067759e+00</td>\n      <td>2.851875e+02</td>\n      <td>16.887495</td>\n      <td>83.250000</td>\n      <td>...</td>\n      <td>1.713701</td>\n      <td>0.000000e+00</td>\n      <td>0.000000</td>\n      <td>0.000034</td>\n      <td>0.000034</td>\n      <td>0.000034</td>\n      <td>-10.000000</td>\n      <td>-10.000000</td>\n      <td>0.000000</td>\n      <td>True</td>\n    </tr>\n  </tbody>\n</table>\n<p>368792 rows × 31 columns</p>\n</div>"
     },
     "execution_count": 4,
     "metadata": {},
     "output_type": "execute_result"
    }
   ],
   "source": [
    "# removal of data samples that contained Na or duplicates\n",
    "df = df.dropna()\n",
    "df = df.drop_duplicates()\n",
    "df"
   ],
   "metadata": {
    "collapsed": false,
    "pycharm": {
     "name": "#%%\n"
    }
   }
  },
  {
   "cell_type": "markdown",
   "source": [
    "### Data Preparation: Label Encoding\n",
    "To handle the categorical variable in the dataset, sklearn’s label encoder module was utilized. The feature DoH was the only categorical variable in the dataset and it only contained two classes namely True or False. So, these classes were converted to binary were 0 = False and 1 = True."
   ],
   "metadata": {
    "collapsed": false,
    "pycharm": {
     "name": "#%% md\n"
    }
   }
  },
  {
   "cell_type": "code",
   "execution_count": 5,
   "outputs": [],
   "source": [
    "from sklearn.preprocessing import LabelEncoder\n",
    "df.DoH = LabelEncoder().fit_transform(df.DoH)"
   ],
   "metadata": {
    "collapsed": false,
    "pycharm": {
     "name": "#%%\n"
    }
   }
  },
  {
   "cell_type": "markdown",
   "source": [
    "### Data preparation: Target class Balancing\n",
    "Another preprocessing step taken to prevent a bias classification algorithm, was to balance the datasets target classes. It was observed in Table 2, that the dataset contained more normal networking activities (355207) than DNS tunneling on the DoH (16257). In order to award equal priorities for the proposed binary classification algorithm to perform optimally, the dataset must be balanced."
   ],
   "metadata": {
    "collapsed": false,
    "pycharm": {
     "name": "#%% md\n"
    }
   }
  },
  {
   "cell_type": "code",
   "execution_count": 6,
   "outputs": [
    {
     "data": {
      "text/plain": "DoH\n0    16023\n1    16023\ndtype: int64"
     },
     "execution_count": 6,
     "metadata": {},
     "output_type": "execute_result"
    }
   ],
   "source": [
    "from sklearn.utils import resample\n",
    "df_majority = df[df.DoH == 0]\n",
    "df_minority = df[df.DoH == 1]\n",
    "df_majority_downsampled = resample(df_majority, replace=False, n_samples=16023, random_state=42)\n",
    "df = pd.concat([df_majority_downsampled, df_minority])\n",
    "df.groupby(df.DoH).size()"
   ],
   "metadata": {
    "collapsed": false,
    "pycharm": {
     "name": "#%%\n"
    }
   }
  },
  {
   "cell_type": "code",
   "execution_count": 7,
   "outputs": [],
   "source": [
    "# Separation of target class from the rest of the dataset\n",
    "X = df.drop('DoH',1)\n",
    "y = df.DoH"
   ],
   "metadata": {
    "collapsed": false,
    "pycharm": {
     "name": "#%%\n"
    }
   }
  },
  {
   "cell_type": "markdown",
   "source": [
    "### Stacked Classifier Design\n",
    "#### Base Models\n",
    "* Decision Tree\n",
    "* Random Forest Classifier\n",
    "#### Meta-learner\n",
    "* Multilayer Perceptron"
   ],
   "metadata": {
    "collapsed": false,
    "pycharm": {
     "name": "#%% md\n"
    }
   }
  },
  {
   "cell_type": "code",
   "execution_count": 8,
   "outputs": [],
   "source": [
    "from sklearn.ensemble import StackingClassifier, RandomForestClassifier\n",
    "from sklearn.neural_network import MLPClassifier\n",
    "from sklearn.tree import DecisionTreeClassifier\n",
    "def stacking_classifier():\n",
    "    base_model = []\n",
    "    base_model.append(('rf', RandomForestClassifier(n_estimators=100,random_state=42,max_depth=15, n_jobs=-1)))\n",
    "    base_model.append(('dt', DecisionTreeClassifier(random_state=42,max_depth=15)))\n",
    "\n",
    "    meta_learner = MLPClassifier(hidden_layer_sizes=(100), activation=\"relu\", max_iter=500, learning_rate=\"invscaling\")\n",
    "\n",
    "    model = StackingClassifier(estimators=base_model, final_estimator=meta_learner, cv=5)\n",
    "    return model"
   ],
   "metadata": {
    "collapsed": false,
    "pycharm": {
     "name": "#%%\n"
    }
   }
  },
  {
   "cell_type": "code",
   "execution_count": 9,
   "outputs": [],
   "source": [
    "# Standardizing the dataset\n",
    "from sklearn.preprocessing import StandardScaler\n",
    "X_scaled = StandardScaler()\n",
    "X = X_scaled.fit_transform(X)"
   ],
   "metadata": {
    "collapsed": false,
    "pycharm": {
     "name": "#%%\n"
    }
   }
  },
  {
   "cell_type": "code",
   "execution_count": 10,
   "outputs": [],
   "source": [
    "#Splitting the dataset into train and test set\n",
    "from sklearn.model_selection import train_test_split,cross_val_score\n",
    "X_train, X_test, y_train, y_test = train_test_split(X,y,train_size=0.7, random_state=42)"
   ],
   "metadata": {
    "collapsed": false,
    "pycharm": {
     "name": "#%%\n"
    }
   }
  },
  {
   "cell_type": "code",
   "execution_count": 11,
   "outputs": [],
   "source": [
    "#calculating the information gain of all features to select the best 19 features that can be used to predict the target class\n",
    "from sklearn.feature_selection import SelectKBest, mutual_info_classif\n",
    "select_feature = SelectKBest(mutual_info_classif, k=19).fit(X_train,y_train)\n",
    "X_train = select_feature.transform(X_train)\n",
    "X_test = select_feature.transform(X_test)"
   ],
   "metadata": {
    "collapsed": false,
    "pycharm": {
     "name": "#%%\n"
    }
   }
  },
  {
   "cell_type": "code",
   "execution_count": 12,
   "outputs": [],
   "source": [
    "#fitting the data to the model\n",
    "model = stacking_classifier()\n",
    "model = model.fit(X_train,y_train)\n",
    "y_pred = model.predict(X_test)"
   ],
   "metadata": {
    "collapsed": false,
    "pycharm": {
     "name": "#%%\n"
    }
   }
  },
  {
   "cell_type": "code",
   "execution_count": 13,
   "outputs": [
    {
     "data": {
      "text/plain": "0.9826294986478052"
     },
     "execution_count": 13,
     "metadata": {},
     "output_type": "execute_result"
    }
   ],
   "source": [
    "#calculate the accuracy of the model\n",
    "accuracy = model.score(X_test, y_test)\n",
    "accuracy"
   ],
   "metadata": {
    "collapsed": false,
    "pycharm": {
     "name": "#%%\n"
    }
   }
  },
  {
   "cell_type": "markdown",
   "source": [
    "### Confusion Matrix\n",
    "Confusion matrix: - When performing predictions using binary classification models, there are\n",
    "four possible outcomes that could occur.\n",
    "• True Positives (TP): is the outcome where the machine learning model correctly predicts\n",
    "the positive class.\n",
    "• True Negatives (TN): is the outcome where the model correctly predicts the negative\n",
    "class.\n",
    "• False Positives (FP): this occurs when the model, incorrectly predicts the positive class.\n",
    "• False Negatives (FN): this occurs when the model incorrectly predicts the negative class."
   ],
   "metadata": {
    "collapsed": false,
    "pycharm": {
     "name": "#%% md\n"
    }
   }
  },
  {
   "cell_type": "code",
   "execution_count": 14,
   "outputs": [
    {
     "data": {
      "text/plain": "array([[4795,   71],\n       [  96, 4652]], dtype=int64)"
     },
     "execution_count": 14,
     "metadata": {},
     "output_type": "execute_result"
    }
   ],
   "source": [
    "from sklearn.metrics import confusion_matrix\n",
    "confusion_matrix(y_test,y_pred)"
   ],
   "metadata": {
    "collapsed": false,
    "pycharm": {
     "name": "#%%\n"
    }
   }
  },
  {
   "cell_type": "markdown",
   "source": [
    "### Cross validation score\n",
    "Cross validation was also carried out to see how well the model generalizes"
   ],
   "metadata": {
    "collapsed": false,
    "pycharm": {
     "name": "#%% md\n"
    }
   }
  },
  {
   "cell_type": "code",
   "execution_count": 15,
   "outputs": [
    {
     "data": {
      "text/plain": "0.9618082213925261"
     },
     "execution_count": 15,
     "metadata": {},
     "output_type": "execute_result"
    }
   ],
   "source": [
    "cv_score = cross_val_score(model, X,y,cv=5,scoring=\"recall_macro\")\n",
    "cv_score.mean()"
   ],
   "metadata": {
    "collapsed": false,
    "pycharm": {
     "name": "#%%\n"
    }
   }
  }
 ],
 "metadata": {
  "kernelspec": {
   "display_name": "Python 3",
   "language": "python",
   "name": "python3"
  },
  "language_info": {
   "codemirror_mode": {
    "name": "ipython",
    "version": 2
   },
   "file_extension": ".py",
   "mimetype": "text/x-python",
   "name": "python",
   "nbconvert_exporter": "python",
   "pygments_lexer": "ipython2",
   "version": "2.7.6"
  }
 },
 "nbformat": 4,
 "nbformat_minor": 0
}